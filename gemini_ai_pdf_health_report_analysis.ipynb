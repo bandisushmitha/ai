{
  "nbformat": 4,
  "nbformat_minor": 0,
  "metadata": {
    "colab": {
      "provenance": [],
      "authorship_tag": "ABX9TyPmiZeJ+PwG4JuyKPnzFq2T",
      "include_colab_link": true
    },
    "kernelspec": {
      "name": "python3",
      "display_name": "Python 3"
    },
    "language_info": {
      "name": "python"
    }
  },
  "cells": [
    {
      "cell_type": "markdown",
      "metadata": {
        "id": "view-in-github",
        "colab_type": "text"
      },
      "source": [
        "<a href=\"https://colab.research.google.com/github/bandisushmitha/ai/blob/main/gemini_ai_pdf_health_report_analysis.ipynb\" target=\"_parent\"><img src=\"https://colab.research.google.com/assets/colab-badge.svg\" alt=\"Open In Colab\"/></a>"
      ]
    },
    {
      "cell_type": "code",
      "execution_count": 2,
      "metadata": {
        "id": "QW_sHz4N8jAN"
      },
      "outputs": [],
      "source": [
        "import google.generativeai as genai\n",
        "from google.colab import userdata\n",
        "GOOGLE_API_KEY=userdata.get('GOOGLE_API_KEY')\n",
        "genai.configure(api_key=GOOGLE_API_KEY)"
      ]
    },
    {
      "cell_type": "code",
      "source": [
        "pip install PyPDF2"
      ],
      "metadata": {
        "colab": {
          "base_uri": "https://localhost:8080/"
        },
        "id": "IUpQCCIm-3Tc",
        "outputId": "8d87c3ea-1ed4-430f-f9db-d2d096782fa2"
      },
      "execution_count": 3,
      "outputs": [
        {
          "output_type": "stream",
          "name": "stdout",
          "text": [
            "Collecting PyPDF2\n",
            "  Downloading pypdf2-3.0.1-py3-none-any.whl.metadata (6.8 kB)\n",
            "Downloading pypdf2-3.0.1-py3-none-any.whl (232 kB)\n",
            "\u001b[?25l   \u001b[90m━━━━━━━━━━━━━━━━━━━━━━━━━━━━━━━━━━━━━━━━\u001b[0m \u001b[32m0.0/232.6 kB\u001b[0m \u001b[31m?\u001b[0m eta \u001b[36m-:--:--\u001b[0m\r\u001b[2K   \u001b[90m━━━━━━━━━━━━━━━━━━━━━━━━━━━━━━━━━━━━━━━━\u001b[0m \u001b[32m232.6/232.6 kB\u001b[0m \u001b[31m7.1 MB/s\u001b[0m eta \u001b[36m0:00:00\u001b[0m\n",
            "\u001b[?25hInstalling collected packages: PyPDF2\n",
            "Successfully installed PyPDF2-3.0.1\n"
          ]
        }
      ]
    },
    {
      "cell_type": "code",
      "source": [
        "import PyPDF2\n",
        "def extract_text_from_pdf(pdf_path):\n",
        "  text=\" \"\n",
        "  with open (pdf_path,'rb') as pdf_file:\n",
        "    pdf_reader=PyPDF2.PdfReader(pdf_file)\n",
        "    for page in pdf_reader.pages:\n",
        "      text+=page.extract_text()+\"\\n\"\n",
        "  return text"
      ],
      "metadata": {
        "id": "2VdkPbLV_HFv"
      },
      "execution_count": 7,
      "outputs": []
    },
    {
      "cell_type": "code",
      "source": [
        "def extract_health_insights(text):\n",
        "  model=genai.GenerativeModel(\"gemini-1.5-flash\")\n",
        "  prompt=f\"Extract key insights from the following health report:\\n\\n{text}\"\n",
        "  response=model.generate_content(prompt)\n",
        "  return response.text\n",
        "\n",
        "pdf_file=\"/content/health_report.pdf\"\n",
        "extracted_text=extract_text_from_pdf(pdf_file)\n",
        "insights=extract_health_insights(extracted_text)\n",
        "print(\"Key Insights:\\n\",insights)"
      ],
      "metadata": {
        "colab": {
          "base_uri": "https://localhost:8080/",
          "height": 493
        },
        "id": "thgbq6ECA40G",
        "outputId": "be28ad29-cae2-45e5-9af4-8a8460e9eb15"
      },
      "execution_count": 8,
      "outputs": [
        {
          "output_type": "stream",
          "name": "stdout",
          "text": [
            "Key Insights:\n",
            " Mr. Kishan Goud's (MR2100003157) health report from 01/02/2021 reveals the following key insights:\n",
            "\n",
            "**Infectious Diseases:**\n",
            "\n",
            "* **Negative for Dengue:**  Tests for Dengue NS1 antigen, IgG, and IgM antibodies were all negative.\n",
            "* **Negative for Malaria:**  Rapid malaria tests for Plasmodium vivax (P.V) and Plasmodium falciparum (P.F) were negative.\n",
            "* **Widal Test:**  Elevated titers for *Salmonella Typhi* \"O\" (1:160) and \"H\" (1:80) suggest a possible past or present *Salmonella Typhi* infection.  However, the results for *Salmonella Paratyphi* \"AH\" and \"BH\" are within the normal range.  Further investigation might be needed to confirm the significance of the *S. Typhi* titers.\n",
            "\n",
            "**Hematology:**\n",
            "\n",
            "* **Complete Blood Picture (CBC):**  Most blood parameters are within the normal range, including hemoglobin, RBC, WBC, platelets, and PCV.  Differential count shows normal ranges for neutrophils, lymphocytes, eosinophils, monocytes, and basophils.\n",
            "* **Erythrocyte Sedimentation Rate (ESR):**  Elevated ESR (26 mm/hr in the first hour and 52 mm/hr in the second hour), significantly higher than the reference range (0-8 mm/hr), suggests ongoing inflammation or infection.\n",
            "\n",
            "**Biochemistry:**\n",
            "\n",
            "* **Liver Function Test (LFT):**  All liver function tests (bilirubin, alkaline phosphatase, SGOT, SGPT, total protein, albumin, globulin, A/G ratio) are within normal ranges, indicating normal liver function.\n",
            "* **Serum Electrolytes:** Sodium (122 mmol/l) is slightly below the lower limit of the normal range (135-146 mmol/l); potassium and chloride levels are within normal limits.\n",
            "* **Renal Function:** Serum creatinine (0.8 mg/dl) is within the normal range (0.6-1.25 mg/dl), indicating normal kidney function.\n",
            "* **Blood Glucose:**  Random blood glucose level is not provided in the extracted data.  However HbA1c (5.4%) is within the normal non-diabetic range (4-6%), suggesting good blood glucose control.\n",
            "\n",
            "**Overall:**\n",
            "\n",
            "The report shows several abnormalities, most notably the elevated ESR and slightly low sodium level along with borderline elevated *Salmonella Typhi* antibodies. The clinical significance of these findings needs to be interpreted by the attending physician Dr. Krishna Prasad in the context of Mr. Kishan Goud's symptoms and overall clinical picture.  The negative results for dengue and malaria are important to rule out those infections.\n",
            "\n"
          ]
        }
      ]
    },
    {
      "cell_type": "code",
      "source": [
        "def summarize_health_report(text):\n",
        "  model=genai.GenerativeModel(\"gemini-1.5-flash\")\n",
        "  prompt=f\"Summarize the following health in a concise manner:\\n\\n{text}\"\n",
        "  response=model.generate_content(prompt)\n",
        "  return response.text\n",
        "summary=summarize_health_report(extracted_text)\n",
        "print(\"Summary:\\n\",summary)"
      ],
      "metadata": {
        "colab": {
          "base_uri": "https://localhost:8080/",
          "height": 292
        },
        "id": "VAwZ1zgLCgjT",
        "outputId": "943a0b27-7d2c-408a-c956-0a258c7c2869"
      },
      "execution_count": 9,
      "outputs": [
        {
          "output_type": "stream",
          "name": "stdout",
          "text": [
            "Summary:\n",
            " Mr. Kishan Goud's lab results (01/02/2021) show:\n",
            "\n",
            "* **Elevated ESR:** 26 mm/hr (1st hour), suggesting inflammation.\n",
            "* **Negative for:** Typhoid, Paratyphoid A and B, Dengue (NS1, IgG, IgM), and Malaria.\n",
            "* **Normal blood count:**  Hemoglobin, RBC, WBC, platelets, and differential count within normal limits.  RBCs and WBCs are normocytic/normochromic and within normal limits, respectively. Platelets are adequate.\n",
            "* **Normal HbA1c:** 5.4%, indicating good blood sugar control.\n",
            "* **Normal Creatinine:** 0.8 mg/dl, indicating normal kidney function.\n",
            "* **Normal Blood Glucose:** Within normal range.\n",
            "* **Normal Liver Function Tests:** Bilirubin, alkaline phosphatase, SGOT, SGPT, total protein, albumin, and globulin levels are within normal ranges. A/G ratio is normal.\n",
            "* **Slightly low Serum Sodium:** 122 mmol/l (slightly below normal range).  Potassium and Chloride levels are within normal range.\n",
            "\n",
            "Overall, most results are within normal ranges, except for the elevated ESR and slightly low serum sodium.  Further investigation may be needed based on clinical presentation.\n",
            "\n"
          ]
        }
      ]
    },
    {
      "cell_type": "code",
      "source": [
        "def detect_abnormalities(text):\n",
        "  model=genai.GenerativeModel(\"gemini-1.5-flash\")\n",
        "  prompt=f\"Analyze the lab tst results in the following health report and highlight my abnormal values:\\n\\n{text}\"\n",
        "  response=model.generate_content(prompt)\n",
        "  return response.text\n",
        "abnormalities=detect_abnormalities(extracted_text)\n",
        "print(\"Potential Abnormalities:\\n\",abnormalities)"
      ],
      "metadata": {
        "colab": {
          "base_uri": "https://localhost:8080/",
          "height": 402
        },
        "id": "Osbc4LQ-Fb5X",
        "outputId": "6de98062-ab7a-4a93-b73a-92d846701d75"
      },
      "execution_count": 10,
      "outputs": [
        {
          "output_type": "stream",
          "name": "stdout",
          "text": [
            "Potential Abnormalities:\n",
            " Based on the provided lab results and reference ranges, the following values are outside the normal range for Mr. Kishan Goud:\n",
            "\n",
            "* **S. Typhi \"O\": 1:160.**  The reference range is 1:20. This significantly elevated titer suggests a possible past or present infection with *Salmonella Typhi*, the bacteria that causes typhoid fever.  Further investigation is needed.\n",
            "\n",
            "* **S. Typhi \"H\": 1:80.** Similar to above, this is elevated compared to the reference range (1:20), supporting a possible *Salmonella Typhi* infection.\n",
            "\n",
            "* **ESR 1st Hour: 26 mm/hr.** The reference range is 0-8 mm/hr.  This elevated Erythrocyte Sedimentation Rate indicates inflammation somewhere in the body.  The cause needs further investigation.\n",
            "\n",
            "* **ESR 2nd Hour: 52 mm/hr.**  This is significantly higher than normal and further supports the finding of inflammation.\n",
            "\n",
            "* **RBC: 4.3 mill/cumm.** While within the lower limit of the reference range (4.5 - 5.5 mill/cumm), it's borderline low and might warrant monitoring, especially in conjunction with other results.\n",
            "\n",
            "\n",
            "* **Serum Sodium: 122 mmol/l.** The reference range is 135-146 mmol/l. This is a low sodium level (hyponatremia), which can have several causes and requires further evaluation.\n",
            "\n",
            "* **Serum Chloride: 97 mmol/l.**  This is below the lower limit of normal (98-107 mmol/l).  Hypochloremia often occurs in conjunction with hyponatremia and needs further medical evaluation.\n",
            "\n",
            "**Important Note:** I am an AI and cannot provide medical advice.  The interpretation of these results requires a medical professional's expertise.  Mr. Kishan Goud should discuss these abnormal values with his physician to determine the underlying cause and appropriate management.  The elevated typhoid antibodies and elevated ESR, particularly in conjunction with the electrolyte abnormalities, suggest the need for further testing and a thorough clinical evaluation.\n",
            "\n"
          ]
        }
      ]
    },
    {
      "cell_type": "code",
      "source": [
        "def explain_medical_terms(text):\n",
        "  model=genai.GenerativeModel(\"gemini-1.5-flash\")\n",
        "  prompt=f\"Explain the medica terms in the following health report in simple language:\\n\\n{text}\"\n",
        "  response=model.generate_content(prompt)\n",
        "  return response.text\n",
        "explanation=explain_medical_terms(extracted_text)\n",
        "print(\"Simplified explanation:\\n\",explanation)"
      ],
      "metadata": {
        "colab": {
          "base_uri": "https://localhost:8080/",
          "height": 839
        },
        "id": "MhsQ2pGzHRSs",
        "outputId": "da4c8017-cfca-4fc5-a969-891bf75d0445"
      },
      "execution_count": 12,
      "outputs": [
        {
          "output_type": "stream",
          "name": "stdout",
          "text": [
            "Simplified explanation:\n",
            " This report shows the results of several blood tests performed on Mr. Kishan Goud. Let's break down the medical terms:\n",
            "\n",
            "**Widal Test:** This test checks for antibodies against *Salmonella Typhi* and *Salmonella Paratyphi*, bacteria that cause typhoid fever and paratyphoid fever.  The numbers (e.g., 1:160) represent the dilution of the sample at which antibodies were still detected.  Higher numbers suggest a higher likelihood of infection.  In this case, the results suggest a past exposure to *Salmonella Typhi* (\"O\" and \"H\" antigens) but not a current infection.  The *Salmonella Paratyphi* results are within the normal range.\n",
            "\n",
            "**Dengue Serology:** This test screens for dengue fever, a viral infection spread by mosquitoes.  NS1 antigen, IgG, and IgM are all components checked for in detecting the virus.  All three tests are negative, meaning no evidence of current or recent dengue infection.\n",
            "\n",
            "**ESR (Erythrocyte Sedimentation Rate):** This measures how quickly red blood cells settle in a test tube. A faster rate (higher mm/hr) can indicate inflammation or infection in the body.  The results show elevated ESR, suggesting some level of inflammation.\n",
            "\n",
            "**Rapid Malaria Test:** This test checks for the presence of malaria parasites in the blood. Both *Plasmodium vivax* (P.V.) and *Plasmodium falciparum* (P.F.) tests are negative, indicating no malaria infection.\n",
            "\n",
            "**Complete Blood Picture (CBC):** This is a comprehensive blood test that includes:\n",
            "\n",
            "* **Hemoglobin (Hb):** Measures the amount of oxygen-carrying protein in the blood.  Mr. Goud's level is within the normal range.\n",
            "* **Red Blood Cells (RBC):** Counts the number of red blood cells. His count is slightly below the lower limit of the normal range.\n",
            "* **White Blood Cells (WBC):** Counts the number of white blood cells (part of the immune system). His count is within the normal range.\n",
            "* **Platelets:** These cells help with blood clotting. His count is within the normal range.\n",
            "* **PCV (Packed Cell Volume):** Measures the percentage of red blood cells in the blood. His value is within the normal range.\n",
            "* **Differential Count:** This breaks down the types of white blood cells present.  All are within normal ranges.\n",
            "* **Peripheral Blood Smear:** A microscopic examination of the blood sample.  The description indicates normal red and white blood cell morphology and adequate platelets.\n",
            "\n",
            "**HbA1c:**  This test measures average blood sugar levels over the past 2-3 months.  Mr. Goud's level (5.4%) falls within the normal range for someone without diabetes.\n",
            "\n",
            "**Serum Creatinine:** This measures creatinine, a waste product from muscle breakdown, in the blood.  It's used to assess kidney function.  His level is within the normal range.\n",
            "\n",
            "**Random Blood Glucose:** Measures blood sugar at a random time. His level is within the normal range.\n",
            "\n",
            "**Liver Function Test (LFT):** This group of tests assesses liver health:\n",
            "\n",
            "* **Bilirubin (Total, Direct, Indirect):** Bilirubin is a byproduct of red blood cell breakdown.  All three are within normal ranges, indicating normal liver function.\n",
            "* **Alkaline Phosphatase:** An enzyme found in the liver and bones. His level is within the normal range.\n",
            "* **SGOT (AST) and SGPT (ALT):** Liver enzymes. His levels are within the normal range.\n",
            "* **Total Protein and Albumin:** Proteins in the blood.  Both are within normal ranges.\n",
            "* **Globulin:** Another blood protein. The Albumin/Globulin ratio (A/G ratio) is also within the normal range.\n",
            "\n",
            "**Serum Electrolytes:** This measures levels of essential minerals in the blood:\n",
            "\n",
            "* **Sodium:** Slightly below the lower limit of the normal range.\n",
            "* **Potassium:** Within the normal range.\n",
            "* **Chloride:** Slightly below the lower limit of the normal range.\n",
            "\n",
            "\n",
            "**In summary:**  The report shows some mild inflammation (indicated by ESR) and slightly low red blood cells and some electrolytes, but no evidence of acute infections (typhoid, paratyphoid, dengue, malaria).  Most of his blood work is within normal limits.  It's crucial to discuss these results with Dr. Krishna Prasad for proper interpretation and to determine any necessary further investigations or treatment.\n",
            "\n"
          ]
        }
      ]
    },
    {
      "cell_type": "code",
      "source": [
        "def ask_gemini_about_report(text,question):\n",
        "  model=genai.GenerativeModel(\"gemini-1.5-flash\")\n",
        "  prompt=f\"The following is a health report::\\n\\n{text}\\n\\nAnswer the following question based in the report\"\n",
        "  response=model.generate_content(prompt)\n",
        "  return response.text\n",
        "question=\"what is the patient's diagnosis?\"\n",
        "answer=ask_gemini_about_report(extracted_text,question)\n",
        "print(\"Answer:\\n\",answer)\n"
      ],
      "metadata": {
        "colab": {
          "base_uri": "https://localhost:8080/",
          "height": 92
        },
        "id": "h3W5D_DeIjis",
        "outputId": "d6515f9d-e322-47d7-f99a-6358086a7a36"
      },
      "execution_count": 14,
      "outputs": [
        {
          "output_type": "stream",
          "name": "stdout",
          "text": [
            "Answer:\n",
            " Please provide the questions you would like answered based on the provided health report.  I'm ready to analyze the data and provide the answers.\n",
            "\n"
          ]
        }
      ]
    },
    {
      "cell_type": "code",
      "source": [],
      "metadata": {
        "id": "3ZbyV6G6Kq0p"
      },
      "execution_count": null,
      "outputs": []
    }
  ]
}