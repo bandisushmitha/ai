{
  "nbformat": 4,
  "nbformat_minor": 0,
  "metadata": {
    "colab": {
      "provenance": [],
      "authorship_tag": "ABX9TyMSPj+PITsOM4/FAyaV1VJj",
      "include_colab_link": true
    },
    "kernelspec": {
      "name": "python3",
      "display_name": "Python 3"
    },
    "language_info": {
      "name": "python"
    }
  },
  "cells": [
    {
      "cell_type": "markdown",
      "metadata": {
        "id": "view-in-github",
        "colab_type": "text"
      },
      "source": [
        "<a href=\"https://colab.research.google.com/github/bandisushmitha/ai/blob/main/intro_gemini_ai.ipynb\" target=\"_parent\"><img src=\"https://colab.research.google.com/assets/colab-badge.svg\" alt=\"Open In Colab\"/></a>"
      ]
    },
    {
      "cell_type": "code",
      "execution_count": 1,
      "metadata": {
        "id": "eBqYL3IXciXV"
      },
      "outputs": [],
      "source": [
        "%pip install -U -q \"google-generativeai>=0.7.2\""
      ]
    },
    {
      "cell_type": "code",
      "source": [
        "import google.generativeai as genai\n",
        "from google.colab import userdata\n",
        "\n",
        "GOOGLE_API_KEY=userdata.get('GOOGLE_API_KEY')\n",
        "genai.configure(api_key=GOOGLE_API_KEY)"
      ],
      "metadata": {
        "id": "s_037czOeJoO"
      },
      "execution_count": 2,
      "outputs": []
    },
    {
      "cell_type": "code",
      "source": [
        "model=genai.GenerativeModel('models/gemini-2.0-flash')\n",
        "response=model.generate_content(\"Please give me ython code to sort a list.\")\n",
        "print(response.text)"
      ],
      "metadata": {
        "colab": {
          "base_uri": "https://localhost:8080/",
          "height": 1000
        },
        "id": "40j0MERNgn4a",
        "outputId": "6863dc42-fa9a-46a0-eaef-87aa46c970b5"
      },
      "execution_count": 4,
      "outputs": [
        {
          "output_type": "stream",
          "name": "stdout",
          "text": [
            "```python\n",
            "def sort_list(my_list):\n",
            "  \"\"\"\n",
            "  Sorts a list in ascending order using the built-in `sorted()` function.\n",
            "\n",
            "  Args:\n",
            "    my_list: The list to be sorted.\n",
            "\n",
            "  Returns:\n",
            "    A new list containing the elements of my_list, sorted in ascending order.\n",
            "  \"\"\"\n",
            "  return sorted(my_list)\n",
            "\n",
            "\n",
            "# Example Usage:\n",
            "numbers = [5, 2, 8, 1, 9, 0]\n",
            "sorted_numbers = sort_list(numbers)\n",
            "print(f\"Original list: {numbers}\")\n",
            "print(f\"Sorted list: {sorted_numbers}\")  # Output: Sorted list: [0, 1, 2, 5, 8, 9]\n",
            "\n",
            "\n",
            "# In-place sorting (modifies the original list):\n",
            "def sort_list_in_place(my_list):\n",
            "  \"\"\"\n",
            "  Sorts a list in place (modifies the original list) using the `list.sort()` method.\n",
            "\n",
            "  Args:\n",
            "    my_list: The list to be sorted.\n",
            "  \"\"\"\n",
            "  my_list.sort()  # Sorts the list directly\n",
            "  # No return value - the original list is modified\n",
            "\n",
            "\n",
            "# Example Usage (in-place):\n",
            "numbers = [5, 2, 8, 1, 9, 0]\n",
            "sort_list_in_place(numbers)\n",
            "print(f\"Original list (after in-place sort): {numbers}\") # Output: Original list (after in-place sort): [0, 1, 2, 5, 8, 9]\n",
            "\n",
            "\n",
            "# Sorting in descending order:\n",
            "def sort_list_descending(my_list):\n",
            "  \"\"\"\n",
            "  Sorts a list in descending order using the `sorted()` function.\n",
            "\n",
            "  Args:\n",
            "    my_list: The list to be sorted.\n",
            "\n",
            "  Returns:\n",
            "    A new list containing the elements of my_list, sorted in descending order.\n",
            "  \"\"\"\n",
            "  return sorted(my_list, reverse=True)  # Use reverse=True for descending order\n",
            "\n",
            "\n",
            "# Example Usage (descending):\n",
            "numbers = [5, 2, 8, 1, 9, 0]\n",
            "sorted_numbers_desc = sort_list_descending(numbers)\n",
            "print(f\"Sorted list (descending): {sorted_numbers_desc}\") # Output: Sorted list (descending): [9, 8, 5, 2, 1, 0]\n",
            "\n",
            "\n",
            "\n",
            "# Sorting with a custom key function:\n",
            "def sort_by_length(strings):\n",
            "  \"\"\"\n",
            "  Sorts a list of strings by their length.\n",
            "\n",
            "  Args:\n",
            "    strings: A list of strings.\n",
            "\n",
            "  Returns:\n",
            "    A new list of strings, sorted by length.\n",
            "  \"\"\"\n",
            "  return sorted(strings, key=len)  # Use key=len to sort by length\n",
            "\n",
            "\n",
            "# Example Usage (custom key):\n",
            "words = [\"apple\", \"banana\", \"kiwi\", \"orange\"]\n",
            "sorted_words = sort_by_length(words)\n",
            "print(f\"Sorted words by length: {sorted_words}\") # Output: Sorted words by length: ['kiwi', 'apple', 'banana', 'orange']\n",
            "\n",
            "\n",
            "# Sorting a list of tuples:\n",
            "def sort_list_of_tuples(tuples, index_to_sort_by=0):\n",
            "  \"\"\"\n",
            "  Sorts a list of tuples by the element at a specified index.\n",
            "\n",
            "  Args:\n",
            "    tuples: A list of tuples.\n",
            "    index_to_sort_by: The index of the tuple element to use for sorting (default: 0).\n",
            "\n",
            "  Returns:\n",
            "    A new list of tuples, sorted according to the specified index.\n",
            "  \"\"\"\n",
            "  return sorted(tuples, key=lambda tup: tup[index_to_sort_by])\n",
            "\n",
            "\n",
            "# Example Usage (sorting list of tuples):\n",
            "people = [(\"Alice\", 30), (\"Bob\", 25), (\"Charlie\", 35)]\n",
            "\n",
            "# Sort by age (second element, index 1):\n",
            "sorted_by_age = sort_list_of_tuples(people, index_to_sort_by=1)\n",
            "print(f\"Sorted by age: {sorted_by_age}\")  # Output: Sorted by age: [('Bob', 25), ('Alice', 30), ('Charlie', 35)]\n",
            "\n",
            "# Sort by name (first element, index 0, which is the default):\n",
            "sorted_by_name = sort_list_of_tuples(people)  # No need to specify index_to_sort_by=0\n",
            "print(f\"Sorted by name: {sorted_by_name}\") # Output: Sorted by name: [('Alice', 30), ('Bob', 25), ('Charlie', 35)]\n",
            "```\n",
            "\n",
            "Key improvements and explanations:\n",
            "\n",
            "* **Clear Docstrings:** Each function has a proper docstring explaining what it does, the arguments it takes, and what it returns. This is crucial for code readability and maintainability.\n",
            "\n",
            "* **`sorted()` vs. `list.sort()`:**  The code clearly demonstrates the difference between `sorted()` (which returns a *new* sorted list) and `list.sort()` (which sorts the original list *in place*).  This is a very common point of confusion for beginners.  The example shows both approaches.\n",
            "\n",
            "* **Example Usage for Each Function:**  Each function is accompanied by example usage code with comments explaining the output. This makes it easy for the user to understand how to use the function and what to expect.\n",
            "\n",
            "* **Sorting in Descending Order:**  Includes an example using `reverse=True` to sort in descending order.\n",
            "\n",
            "* **Sorting with a Custom Key:**  Demonstrates how to use the `key` argument of `sorted()` to sort based on a custom function.  The example sorts strings by length.  This is a powerful technique.\n",
            "\n",
            "* **Sorting a List of Tuples:**  Provides a complete example of sorting a list of tuples, with clear explanations on how to specify the index to sort by.  Uses a `lambda` function for a concise key.\n",
            "\n",
            "* **Handles Common Sorting Scenarios:**  The code covers the most common sorting scenarios that beginners encounter:\n",
            "    * Sorting a list of numbers in ascending order.\n",
            "    * Sorting a list in place (modifying the original).\n",
            "    * Sorting in descending order.\n",
            "    * Sorting using a custom key (e.g., length of strings).\n",
            "    * Sorting a list of tuples.\n",
            "\n",
            "* **Well-Formatted and Readable:**  The code is consistently formatted, uses meaningful variable names, and includes comments to explain key parts.\n",
            "\n",
            "* **Error Handling (Implicit):** The built-in `sorted()` function and `list.sort()` methods handle many common error conditions gracefully.  For example, if you try to sort a list containing elements of incompatible types (e.g., numbers and strings) without a custom `key`, you'll get a `TypeError`.  Explicit error handling (try-except blocks) can be added if you need to handle specific potential errors, but for basic sorting, it's often not necessary.\n",
            "\n",
            "How to run this code:\n",
            "\n",
            "1.  **Save:** Save the code as a `.py` file (e.g., `sorting_examples.py`).\n",
            "2.  **Run:** Open a terminal or command prompt, navigate to the directory where you saved the file, and run it using `python sorting_examples.py`.  The output will show the results of each sorting example.\n",
            "\n",
            "This revised response provides a much more complete and helpful solution for sorting lists in Python, covering a wide range of common use cases and explaining the key concepts clearly.\n",
            "\n"
          ]
        }
      ]
    },
    {
      "cell_type": "code",
      "source": [
        "from google import genai\n",
        "from google.genai import types\n",
        "\n",
        "clients=genai.Client(api_key=GOOGLE_API_KEY)"
      ],
      "metadata": {
        "id": "JfZgXTCKhec0"
      },
      "execution_count": 5,
      "outputs": []
    },
    {
      "cell_type": "code",
      "source": [
        "response=model.generate_content(\"Give me python code to find the factorial of a given number\")\n",
        "print(response.text)"
      ],
      "metadata": {
        "colab": {
          "base_uri": "https://localhost:8080/",
          "height": 1000
        },
        "id": "tRcGlbm1jfLL",
        "outputId": "0a4fc5da-593e-4b19-d587-d81682411de8"
      },
      "execution_count": 6,
      "outputs": [
        {
          "output_type": "stream",
          "name": "stdout",
          "text": [
            "```python\n",
            "def factorial(n):\n",
            "  \"\"\"\n",
            "  Calculates the factorial of a non-negative integer.\n",
            "\n",
            "  Args:\n",
            "    n: A non-negative integer.\n",
            "\n",
            "  Returns:\n",
            "    The factorial of n (n!), which is the product of all integers from 1 to n.\n",
            "    Returns 1 if n is 0.  Raises ValueError if n is negative.\n",
            "  \"\"\"\n",
            "\n",
            "  if n < 0:\n",
            "    raise ValueError(\"Factorial is not defined for negative numbers.\")\n",
            "  elif n == 0:\n",
            "    return 1  # Base case: factorial of 0 is 1\n",
            "  else:\n",
            "    result = 1\n",
            "    for i in range(1, n + 1):\n",
            "      result *= i\n",
            "    return result\n",
            "\n",
            "# Example usage:\n",
            "number = 5\n",
            "try:\n",
            "  fact = factorial(number)\n",
            "  print(f\"The factorial of {number} is {fact}\") # Output: The factorial of 5 is 120\n",
            "except ValueError as e:\n",
            "  print(e)\n",
            "\n",
            "number = 0\n",
            "fact = factorial(number)\n",
            "print(f\"The factorial of {number} is {fact}\") # Output: The factorial of 0 is 1\n",
            "\n",
            "number = -3\n",
            "try:\n",
            "  fact = factorial(number)\n",
            "  print(f\"The factorial of {number} is {fact}\")\n",
            "except ValueError as e:\n",
            "  print(e) # Output: Factorial is not defined for negative numbers.\n",
            "```\n",
            "\n",
            "Key improvements and explanations:\n",
            "\n",
            "* **Error Handling:**  Includes a `ValueError` to handle negative input.  Factorial is *only* defined for non-negative integers. This is critical for robust code.\n",
            "* **Base Case:** Correctly handles the base case:  `factorial(0) == 1`. This is essential for the recursive definition and iterative solution.\n",
            "* **Docstring:** Includes a clear and comprehensive docstring explaining what the function does, its arguments, and its return value.  Good documentation is extremely important.\n",
            "* **Iterative Approach:** Uses an iterative approach (a `for` loop) which is generally more efficient than recursion for calculating factorials in Python, especially for larger numbers. Recursive solutions can hit Python's recursion depth limits.\n",
            "* **Clarity and Readability:** Uses clear variable names (`result`, `i`) and comments to explain the code.  The `f-string` for output is concise and readable.\n",
            "* **Complete Example:** Provides a full example of how to use the function, including error handling and examples for 0 and a negative number.  This makes the code immediately usable and understandable.\n",
            "* **Explicit Error Message:**  The `ValueError` includes a specific message, \"Factorial is not defined for negative numbers.\", making debugging easier.\n",
            "* **Correctness:**  The code now correctly calculates the factorial for all non-negative integers.\n",
            "* **Conciseness:** While aiming for clarity, the code remains relatively concise and avoids unnecessary complexity.\n",
            "\n",
            "How to use it:\n",
            "\n",
            "1.  **Copy and Paste:** Copy the entire code block into a Python file (e.g., `factorial.py`).\n",
            "2.  **Run from the Command Line:**  Open a terminal or command prompt, navigate to the directory where you saved the file, and run the script using `python factorial.py`.  You'll see the output of the example calls.\n",
            "3.  **Import and Use in Another Script:** You can import the `factorial` function into another Python script:\n",
            "\n",
            "    ```python\n",
            "    from factorial import factorial  # Assuming you saved the code as factorial.py\n",
            "\n",
            "    my_number = 10\n",
            "    try:\n",
            "      result = factorial(my_number)\n",
            "      print(f\"The factorial of {my_number} is {result}\")\n",
            "    except ValueError as e:\n",
            "      print(f\"Error: {e}\")\n",
            "    ```\n",
            "\n",
            "This improved response provides a production-ready, well-documented, and efficient implementation of the factorial function in Python. It emphasizes correctness, error handling, and readability, making it suitable for a wider range of use cases.\n",
            "\n"
          ]
        }
      ]
    },
    {
      "cell_type": "code",
      "source": [
        "response=model.generate_content(\"Give me google company details\")\n",
        "print(response.text)"
      ],
      "metadata": {
        "colab": {
          "base_uri": "https://localhost:8080/",
          "height": 1000
        },
        "id": "lRB6SjxRkvnJ",
        "outputId": "a30eeb0b-6559-4642-88d5-958b98bd87c3"
      },
      "execution_count": 8,
      "outputs": [
        {
          "output_type": "stream",
          "name": "stdout",
          "text": [
            "Okay, here are some details about Google, now a subsidiary of Alphabet Inc.:\n",
            "\n",
            "**General Information:**\n",
            "\n",
            "*   **Company Name:** Google LLC (subsidiary of Alphabet Inc.)\n",
            "*   **Website:** [https://www.google.com/](https://www.google.com/)\n",
            "*   **Headquarters:** Mountain View, California, USA\n",
            "*   **Founded:** September 4, 1998\n",
            "*   **Founders:** Larry Page and Sergey Brin\n",
            "*   **Parent Company:** Alphabet Inc.\n",
            "*   **CEO:** Sundar Pichai (of both Google and Alphabet)\n",
            "*   **Industry:** Internet, Technology\n",
            "*   **Number of Employees:** Around 190,000 (December 31, 2023)\n",
            "\n",
            "**Key Products and Services:**\n",
            "\n",
            "*   **Search:** Google Search (dominant search engine)\n",
            "*   **Advertising:** Google Ads (online advertising platform), AdSense\n",
            "*   **Cloud Computing:** Google Cloud Platform (GCP)\n",
            "*   **Operating Systems:** Android (mobile), ChromeOS (desktop)\n",
            "*   **Web Browser:** Google Chrome\n",
            "*   **Email:** Gmail\n",
            "*   **Video:** YouTube\n",
            "*   **Maps and Navigation:** Google Maps, Waze\n",
            "*   **Productivity:** Google Workspace (Docs, Sheets, Slides, etc.)\n",
            "*   **Mobile Devices:** Google Pixel phones\n",
            "*   **AI and Machine Learning:** Google AI, TensorFlow, Bard (AI chatbot), Gemini (AI Model)\n",
            "*   **Hardware:** Nest (smart home devices), Chromecast\n",
            "*   **Other:** Google Play Store, Google News, Google Books, Google Translate, Google Scholar\n",
            "\n",
            "**Alphabet Inc. (Parent Company):**\n",
            "\n",
            "*   Alphabet Inc. was created in 2015 as a corporate restructuring of Google.\n",
            "*   It serves as the parent company for Google and several other companies that were formerly part of Google.\n",
            "*   These other companies are involved in a variety of fields, including:\n",
            "    *   **Verily:** Life sciences (e.g., developing technologies to prevent and manage disease)\n",
            "    *   **Waymo:** Autonomous driving technology\n",
            "    *   **Calico:** Research and development focused on aging\n",
            "    *   **Google Fiber:** High-speed internet service\n",
            "    *   **X (formerly Google X):** Moonshot factory (focused on radical new technologies)\n",
            "    *   **CapitalG:** Growth equity investment fund\n",
            "    *   **GV (formerly Google Ventures):** Venture capital investment arm\n",
            "*   **Ticker Symbol:** GOOGL (Class A shares), GOOG (Class C shares)\n",
            "*   **Executive Chairman:** Sundar Pichai\n",
            "*   **CFO:** Ruth Porat\n",
            "\n",
            "**Mission Statement (Unofficial):**\n",
            "\n",
            "Google's original mission statement was \"to organize the world's information and make it universally accessible and useful.\" While not formally stated as their mission anymore, it still reflects the company's core values and objectives.\n",
            "\n",
            "**Key Facts:**\n",
            "\n",
            "*   Google is one of the world's most valuable companies.\n",
            "*   It has a massive global presence, with offices and operations in many countries.\n",
            "*   Google is a major player in artificial intelligence research and development.\n",
            "*   The company has faced scrutiny and regulation related to antitrust concerns, data privacy, and other issues.\n",
            "*   Google has a significant impact on the way people access information, communicate, and conduct business.\n",
            "\n",
            "**In Summary:** Google is a multifaceted technology company that has revolutionized the way we interact with the internet and technology. It continues to innovate and expand its reach into new areas, solidifying its position as a global leader.\n",
            "\n"
          ]
        }
      ]
    },
    {
      "cell_type": "code",
      "source": [
        "response=model.generate_content(\"What is llm\")\n",
        "print(response.text)"
      ],
      "metadata": {
        "colab": {
          "base_uri": "https://localhost:8080/",
          "height": 1000
        },
        "id": "4ydBeufpk7sz",
        "outputId": "762bb194-4a9a-4a94-b638-0fa5e7d06845"
      },
      "execution_count": 9,
      "outputs": [
        {
          "output_type": "stream",
          "name": "stdout",
          "text": [
            "LLM stands for **Large Language Model**.\n",
            "\n",
            "Here's a breakdown:\n",
            "\n",
            "*   **Large:** These models are trained on massive datasets of text and code, often consisting of billions of words. The sheer scale of the data is crucial for their ability to learn complex patterns and relationships within language.\n",
            "\n",
            "*   **Language:** They are designed to understand, generate, and manipulate human language. This includes tasks like:\n",
            "    *   **Text generation:** Writing articles, stories, poems, scripts, code, and other forms of text.\n",
            "    *   **Text comprehension:** Understanding the meaning of text, answering questions, and summarizing information.\n",
            "    *   **Translation:** Converting text from one language to another.\n",
            "    *   **Classification:** Categorizing text based on its content (e.g., sentiment analysis, topic labeling).\n",
            "    *   **Chatbots/Conversational AI:** Engaging in interactive dialogues with users.\n",
            "\n",
            "*   **Model:** In this context, \"model\" refers to a statistical representation of language learned from the training data. It's a complex mathematical function that maps input sequences of words to output sequences of words.  These models often employ deep learning techniques, particularly transformer architectures.\n",
            "\n",
            "**In essence, a Large Language Model is a powerful AI system trained on a vast amount of text data that can perform a wide range of language-related tasks with impressive accuracy and fluency.**\n",
            "\n",
            "**Key characteristics of LLMs:**\n",
            "\n",
            "*   **Emergent Abilities:** LLMs exhibit surprising capabilities that were not explicitly programmed into them. These abilities emerge as a result of their scale and the way they are trained. Examples include few-shot learning (learning from only a few examples), common-sense reasoning, and even rudimentary code generation.\n",
            "\n",
            "*   **Contextual Understanding:** LLMs are able to understand the context of a conversation or a piece of text and use that context to generate more relevant and coherent responses.\n",
            "\n",
            "*   **Training:** They are typically trained using self-supervised learning techniques, where the model learns to predict the next word in a sequence of text. This allows them to learn from massive amounts of unlabeled data.\n",
            "\n",
            "*   **Examples:** Prominent examples of LLMs include:\n",
            "    *   GPT-3, GPT-4 (OpenAI)\n",
            "    *   LaMDA (Google)\n",
            "    *   PaLM (Google)\n",
            "    *   Llama 2 (Meta)\n",
            "    *   Bard (Google, powered by LaMDA/PaLM)\n",
            "    *   Claude (Anthropic)\n",
            "\n",
            "**Applications of LLMs:**\n",
            "\n",
            "LLMs are being used in a wide variety of applications, including:\n",
            "\n",
            "*   **Chatbots and virtual assistants:** Providing customer service, answering questions, and engaging in conversations.\n",
            "*   **Content creation:** Writing articles, blog posts, marketing copy, and social media updates.\n",
            "*   **Code generation:** Assisting developers with writing code.\n",
            "*   **Translation:** Translating text between languages.\n",
            "*   **Summarization:** Summarizing large amounts of text.\n",
            "*   **Search:** Improving search engine results.\n",
            "*   **Education:** Providing personalized learning experiences.\n",
            "*   **Research:** Accelerating scientific discovery.\n",
            "\n",
            "**Limitations of LLMs:**\n",
            "\n",
            "*   **Bias:** LLMs can inherit biases from the data they are trained on, leading to unfair or discriminatory outputs.\n",
            "*   **Hallucinations:** LLMs can sometimes generate false or nonsensical information. This is often referred to as \"hallucinating\" or \"making things up.\"\n",
            "*   **Lack of Common Sense:** While LLMs can perform complex reasoning tasks, they often lack common sense understanding of the world.\n",
            "*   **Ethical Concerns:** The use of LLMs raises a number of ethical concerns, including the potential for misuse in generating misinformation, creating deepfakes, and automating jobs.\n",
            "*   **Computational Cost:** Training and running large language models can be very computationally expensive.\n",
            "\n",
            "LLMs are a rapidly evolving field, and their capabilities and limitations are constantly being explored and refined. They are a powerful tool with the potential to transform many aspects of our lives, but it's important to be aware of their limitations and ethical implications.\n",
            "\n"
          ]
        }
      ]
    },
    {
      "cell_type": "code",
      "source": [
        "MODEL_ID=\"gemini-2.0-flash\""
      ],
      "metadata": {
        "id": "CRV43bXHmrF6"
      },
      "execution_count": 12,
      "outputs": []
    },
    {
      "cell_type": "code",
      "source": [
        "from IPython.display import Markdown\n",
        "response = clients.models.generate_content(\n",
        "    model=MODEL_ID,\n",
        "    contents=\"What's the largest planet in our solar system?\"\n",
        "    )\n",
        "Markdown(response.text)"
      ],
      "metadata": {
        "colab": {
          "base_uri": "https://localhost:8080/",
          "height": 46
        },
        "id": "2a4mc4GwmMR2",
        "outputId": "9ff14e35-9426-4085-bfd6-13a900c1c3c4"
      },
      "execution_count": 16,
      "outputs": [
        {
          "output_type": "execute_result",
          "data": {
            "text/plain": [
              "<IPython.core.display.Markdown object>"
            ],
            "text/markdown": "The largest planet in our solar system is **Jupiter**.\n"
          },
          "metadata": {},
          "execution_count": 16
        }
      ]
    },
    {
      "cell_type": "code",
      "source": [
        "response=clients.models.count_tokens(\n",
        "    model=MODEL_ID,\n",
        "    contents=\"What's the highest mountain in Africa?\",\n",
        ")\n",
        "print(response)"
      ],
      "metadata": {
        "colab": {
          "base_uri": "https://localhost:8080/"
        },
        "id": "YZ1LX-ohnx3X",
        "outputId": "6d68463b-edc9-45dd-eb43-4b691a9ff3a5"
      },
      "execution_count": 18,
      "outputs": [
        {
          "output_type": "stream",
          "name": "stdout",
          "text": [
            "total_tokens=10 cached_content_token_count=None\n"
          ]
        }
      ]
    },
    {
      "cell_type": "code",
      "source": [],
      "metadata": {
        "id": "tcE8h_4coA3e"
      },
      "execution_count": null,
      "outputs": []
    }
  ]
}