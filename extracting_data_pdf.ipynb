{
  "nbformat": 4,
  "nbformat_minor": 0,
  "metadata": {
    "colab": {
      "provenance": [],
      "authorship_tag": "ABX9TyMQbg411F8hJxCOG5PXIxJf",
      "include_colab_link": true
    },
    "kernelspec": {
      "name": "python3",
      "display_name": "Python 3"
    },
    "language_info": {
      "name": "python"
    }
  },
  "cells": [
    {
      "cell_type": "markdown",
      "metadata": {
        "id": "view-in-github",
        "colab_type": "text"
      },
      "source": [
        "<a href=\"https://colab.research.google.com/github/bandisushmitha/ai/blob/main/extracting_data_pdf.ipynb\" target=\"_parent\"><img src=\"https://colab.research.google.com/assets/colab-badge.svg\" alt=\"Open In Colab\"/></a>"
      ]
    },
    {
      "cell_type": "code",
      "execution_count": 9,
      "metadata": {
        "colab": {
          "base_uri": "https://localhost:8080/"
        },
        "id": "lg1fbyJyQrdQ",
        "outputId": "2418cbcf-ffae-4694-92eb-04c10a58fbf5"
      },
      "outputs": [
        {
          "output_type": "stream",
          "name": "stdout",
          "text": [
            "Requirement already satisfied: PyPDF2 in /usr/local/lib/python3.11/dist-packages (3.0.1)\n"
          ]
        }
      ],
      "source": [
        "!pip install PyPDF2\n",
        "import PyPDF2\n",
        "from PyPDF2 import PdfReader"
      ]
    },
    {
      "cell_type": "code",
      "source": [
        "PyPDF2.__version__"
      ],
      "metadata": {
        "colab": {
          "base_uri": "https://localhost:8080/",
          "height": 36
        },
        "id": "lqf0f1szSQx7",
        "outputId": "27a61a80-791d-4a68-a435-84e1e5810e26"
      },
      "execution_count": 4,
      "outputs": [
        {
          "output_type": "execute_result",
          "data": {
            "text/plain": [
              "'3.0.1'"
            ],
            "application/vnd.google.colaboratory.intrinsic+json": {
              "type": "string"
            }
          },
          "metadata": {},
          "execution_count": 4
        }
      ]
    },
    {
      "cell_type": "code",
      "source": [
        "pdf=open ('/content/file1pdf.pdf','rb')\n",
        "pdf_reader=PdfReader(pdf)\n",
        "print(\"Number of pages:\",len(pdf_reader.pages))\n",
        "page=pdf_reader.pages[4]\n",
        "print(page.extract_text())\n",
        "pdf.close()"
      ],
      "metadata": {
        "colab": {
          "base_uri": "https://localhost:8080/"
        },
        "id": "0wVOrHuDSWIv",
        "outputId": "2e8f8700-fa8f-4b52-afc5-43be13e20838"
      },
      "execution_count": 12,
      "outputs": [
        {
          "output_type": "stream",
          "name": "stdout",
          "text": [
            "Number of pages: 35\n",
            " \n",
            " PLU ............................................................................................................................... ..................  5 \n",
            "Proposed  Land use ..........................................................................................................................  5 \n",
            "SRA ............................................................................................................................... ..................  5 \n",
            "Slum Rehabilitation  Authority  .........................................................................................................  5 \n",
            "SWOT ............................................................................................................................... ...............  5 \n",
            "Strengths  Weaknesses  Opportunities  Threats ..................................................................................  5 \n",
            "TDR ............................................................................................................................... ..................  5 \n",
            "Transfer of Development  Rights ......................................................................................................  5 \n",
            "ToR ............................................................................................................................... ..................  5 \n",
            "Terms of Reference  .........................................................................................................................  5 \n",
            "1.Introduction  ............................................................................................................................... .. 6 \n",
            "2.Data made available for Preparation  of Base Map by MCGM  .......................................................  6 \n",
            "a) Quick Bird satellite image handed over by MCGM .........................................................................  6 \n",
            "b)Digitized  Tikka Sheets (Shape Files) .................................................................................................  7 \n",
            "c)Other Data Layers forming present Development  Plan (Shape Files) ..............................................  7 \n",
            "3.Components  of Base Map   ...........................................................................................................  8 \n",
            "a)Base layer  ............................................................................................................................... ......... 8 \n",
            "b)Data layers ............................................................................................................................... ........ 9 \n",
            "c)Data to be updated ..........................................................................................................................  9 \n",
            "4.Quality  of Data Received ............................................................................................................  10 \n",
            "a)Background   ............................................................................................................................... .... 10 \n",
            "b)GIS Issues and their resolution    ....................................................................................................  10 \n",
            "  ............................................................................................................................... ...............  11 \n",
            "c)Summary  Assessment  Matrix for GIS Data for each of the wards  ................................................  17 \n",
            "5.Way Forward ..............................................................................................................................  19\n",
            " \n",
            " \n"
          ]
        }
      ]
    },
    {
      "cell_type": "code",
      "source": [
        "import PyPDF2,urllib,nltk\n",
        "from io import BytesIO\n",
        "from nltk.tokenize import word_tokenize\n",
        "from nltk.corpus import stopwords\n",
        "nltk.download('punkt')\n",
        "nltk.download('stopwords')"
      ],
      "metadata": {
        "colab": {
          "base_uri": "https://localhost:8080/"
        },
        "id": "yMBUQRpETYAx",
        "outputId": "b3914d9e-f4c4-4d74-ab45-ef041eabaaab"
      },
      "execution_count": 13,
      "outputs": [
        {
          "output_type": "stream",
          "name": "stderr",
          "text": [
            "[nltk_data] Downloading package punkt to /root/nltk_data...\n",
            "[nltk_data]   Unzipping tokenizers/punkt.zip.\n",
            "[nltk_data] Downloading package stopwords to /root/nltk_data...\n",
            "[nltk_data]   Unzipping corpora/stopwords.zip.\n"
          ]
        },
        {
          "output_type": "execute_result",
          "data": {
            "text/plain": [
              "True"
            ]
          },
          "metadata": {},
          "execution_count": 13
        }
      ]
    },
    {
      "cell_type": "code",
      "source": [
        "wFile = urllib.request.urlopen('https://www.udri.org/pdf/02%20working%20paper%201.pdf')\n",
        "pdfreader = PyPDF2.PdfReader(BytesIO(wFile.read()))"
      ],
      "metadata": {
        "id": "ALKi3tYUWZLH"
      },
      "execution_count": 15,
      "outputs": []
    },
    {
      "cell_type": "code",
      "source": [
        "import nltk\n",
        "nltk.download('punkt_tab')\n",
        "pageObj=pdfreader.pages[2]\n",
        "page2=pageObj.extract_text()\n",
        "punctuations=['(',')',';',':','[',']',',','...','.']\n",
        "tokens=word_tokenize(page2)\n",
        "stop_words=stopwords.words('english')\n",
        "keywords=[word for word in tokens if not word in stop_words and not word in punctuations]\n",
        "print(keywords)"
      ],
      "metadata": {
        "colab": {
          "base_uri": "https://localhost:8080/"
        },
        "id": "iFlSoZUbWjz3",
        "outputId": "50773fb2-ddb3-4b99-c6bd-57b42f45cba0"
      },
      "execution_count": 17,
      "outputs": [
        {
          "output_type": "stream",
          "name": "stderr",
          "text": [
            "[nltk_data] Downloading package punkt_tab to /root/nltk_data...\n",
            "[nltk_data]   Unzipping tokenizers/punkt_tab.zip.\n"
          ]
        },
        {
          "output_type": "stream",
          "name": "stdout",
          "text": [
            "['Development', 'Plan', 'Greater', 'Mumbai', '2014‐2034', 'Table', 'Contents', 'The', 'Consultant', 'wishes', 'thank', 'following', 'individuals', 'Municipal', 'Corporation', 'Greater', 'Mumbai', 'invaluable', 'support', 'insights', 'contributions', 'towards', '‘', 'Working', 'Paper', '1', '–', 'Preparation', 'Base', 'Map', '’', 'preparation', 'Development', 'Plan', 'Greater', 'Mumbai', '2014‐34', '.............................................................................................................................', '..............', '3', 'Our', 'gratitude', 'following', 'experts', 'invaluable', 'insights', 'support', '............................', '3', 'We', 'wish', 'especially', 'thank', 'MCGM', 'officers', 'Mr.', 'Jagdish', 'Talreja', 'Mr.', 'Dinesh', 'Naik', 'Mr.', 'Hiren', 'Daftardar', 'Ms.', 'Anita', 'Naik', 'continual', 'support', 'since', 'beginning', 'project', 'help', 'towards', 'familiarization', 'data', 'collection', 'They', 'instrumental', 'helping', 'contact', 'various', 'MCGM', 'departments', 'well', 'helping', 'establish', 'contact', 'personnel', 'government', 'departments', 'organizations', 'Many', 'thanks', 'MCGM', 'team', 'deploying', 'personnel', 'particularly', 'Mr.', 'Prasad', 'Gharat', 'extensive', 'field', 'visits', 'helped', 'understanding', 'actual', 'ground', 'conditions', '........................................................................................', '3', 'BEST', '...............................................................................................................................', '.................', '5', 'Brihanmumbai', 'Electric', 'Supply', 'Transport', 'Undertaking', '..............................................................', '5', 'CIDCO', '...............................................................................................................................', '..............', '5', 'City', 'Industrial', 'Development', 'Corporation', '...............................................................................', '5', 'CTP', '...............................................................................................................................', '..................', '5', 'Comprehensive', 'Transportation', 'Plan', '...............................................................................................', '5', 'DP', '...............................................................................................................................', '....................', '5', 'Development', 'Plan', '..........................................................................................................................', '5', 'DPGM34', '...............................................................................................................................', '..........', '5', 'Development', 'Plan', 'Greater', 'Mumbai', '2034', '.......................................................................................', '5', 'DCR', '...............................................................................................................................', '..................', '5', 'Development', 'Control', 'Regulations', '...................................................................................................', '5', 'DGPS', '...........................................................................................................................', '....................', '5', 'Digital', 'Global', 'Positioning', 'System', '...................................................................................................', '5', 'DPGM', '...............................................................................................................................', '..............', '5', 'Development', 'Plan', 'Greater', 'Mumbai', '...........................................................................................', '5', 'ELU', '...............................................................................................................................', '..................', '5', 'Existing', 'Land', 'use', '.............................................................................................................................', '5', 'FSI', '...............................................................................................................................', '....................', '5', 'Floor', 'Space', 'Index', '............................................................................................................................', '5', 'GIS', '...............................................................................................................................', '...................', '5']\n"
          ]
        }
      ]
    },
    {
      "cell_type": "code",
      "source": [
        "name_list=list()\n",
        "name_list=list()\n",
        "check=['Mr.','Mrs.','Ms.']\n",
        "for idx, token in enumerate(tokens):\n",
        "  if token.startswith(tuple(check)) and idx<(len(tokens)-1):\n",
        "    name=tokens[idx]+' '+tokens[idx+1]\n",
        "    name_list.append(name)\n",
        "print(name_list)\n",
        "print(name_list)"
      ],
      "metadata": {
        "colab": {
          "base_uri": "https://localhost:8080/"
        },
        "id": "T99dVhnsXMVT",
        "outputId": "67fbe51c-28fe-4c19-a21e-84a083a9fc3e"
      },
      "execution_count": 20,
      "outputs": [
        {
          "output_type": "stream",
          "name": "stdout",
          "text": [
            "['Mr. Jagdish', 'Mr. Dinesh', 'Mr. Hiren', 'Ms. Anita', 'Mr. Prasad']\n",
            "['Mr. Jagdish', 'Mr. Dinesh', 'Mr. Hiren', 'Ms. Anita', 'Mr. Prasad']\n"
          ]
        }
      ]
    },
    {
      "cell_type": "code",
      "source": [
        "wFile.close()"
      ],
      "metadata": {
        "id": "s-PTeubKYxp1"
      },
      "execution_count": 21,
      "outputs": []
    },
    {
      "cell_type": "code",
      "source": [
        "!pip install python-docx"
      ],
      "metadata": {
        "colab": {
          "base_uri": "https://localhost:8080/"
        },
        "id": "V5wm-TciZBrW",
        "outputId": "5cd6661d-35b3-485a-f245-7ba0477f97ff"
      },
      "execution_count": 22,
      "outputs": [
        {
          "output_type": "stream",
          "name": "stdout",
          "text": [
            "Collecting python-docx\n",
            "  Downloading python_docx-1.1.2-py3-none-any.whl.metadata (2.0 kB)\n",
            "Requirement already satisfied: lxml>=3.1.0 in /usr/local/lib/python3.11/dist-packages (from python-docx) (5.3.0)\n",
            "Requirement already satisfied: typing-extensions>=4.9.0 in /usr/local/lib/python3.11/dist-packages (from python-docx) (4.12.2)\n",
            "Downloading python_docx-1.1.2-py3-none-any.whl (244 kB)\n",
            "\u001b[?25l   \u001b[90m━━━━━━━━━━━━━━━━━━━━━━━━━━━━━━━━━━━━━━━━\u001b[0m \u001b[32m0.0/244.3 kB\u001b[0m \u001b[31m?\u001b[0m eta \u001b[36m-:--:--\u001b[0m\r\u001b[2K   \u001b[90m━━━━━━━━━━━━━━━━━━━━━━━━━━━━━━━━━━━━━━━━\u001b[0m \u001b[32m244.3/244.3 kB\u001b[0m \u001b[31m12.6 MB/s\u001b[0m eta \u001b[36m0:00:00\u001b[0m\n",
            "\u001b[?25hInstalling collected packages: python-docx\n",
            "Successfully installed python-docx-1.1.2\n"
          ]
        }
      ]
    },
    {
      "cell_type": "code",
      "source": [
        "import docx"
      ],
      "metadata": {
        "id": "GXiDmr2mZ71r"
      },
      "execution_count": 23,
      "outputs": []
    },
    {
      "cell_type": "code",
      "source": [
        "doc = open(\"/content/Project Abstract_II sem 3-2 FINAL.docx\", \"rb\") # Open in binary read mode\n",
        "document = docx.Document(doc)\n"
      ],
      "metadata": {
        "id": "QqbkLdbqZ9sY"
      },
      "execution_count": 26,
      "outputs": []
    },
    {
      "cell_type": "code",
      "source": [
        "docu=\"\"\n",
        "for para in document.paragraphs:\n",
        "  docu += para.text\n",
        "print(docu)"
      ],
      "metadata": {
        "colab": {
          "base_uri": "https://localhost:8080/"
        },
        "id": "pd8CudvNbgkl",
        "outputId": "babf091c-4584-4e7b-e60d-4c3cb0c0c49e"
      },
      "execution_count": 29,
      "outputs": [
        {
          "output_type": "stream",
          "name": "stdout",
          "text": [
            "SCHOOL OF ENGINEERINGDEPARTMENT OF AI & ML (IIIrd Year II Semester)                             Application Development- web application with Natural                            Language Processing & IOT Explore (MR22-1CS0264) Date:Note: Abstract should be 250-300 words which should indicate the outcomes of the selected project.  GUIDE         AD MENTOR         AD COORDINATOR                            DEAN\n"
          ]
        }
      ]
    },
    {
      "cell_type": "code",
      "source": [
        "for i in range(len(document.paragraphs)):\n",
        "  print(\"The Content of the paragraph\"+str(i)+\" is :\" + document.paragraphs[i].text+\"\\n\")"
      ],
      "metadata": {
        "colab": {
          "base_uri": "https://localhost:8080/"
        },
        "id": "3Yw7VyyWbwe2",
        "outputId": "ed40a508-ed7d-467b-a048-0e33ceb76b11"
      },
      "execution_count": 30,
      "outputs": [
        {
          "output_type": "stream",
          "name": "stdout",
          "text": [
            "The Content of the paragraph0 is :SCHOOL OF ENGINEERING\n",
            "\n",
            "The Content of the paragraph1 is :DEPARTMENT OF AI & ML (IIIrd Year II Semester) \n",
            "\n",
            "The Content of the paragraph2 is :                            Application Development- web application with Natural\n",
            "\n",
            "The Content of the paragraph3 is :                            Language Processing & IOT Explore (MR22-1CS0264) \n",
            "\n",
            "The Content of the paragraph4 is :Date:\n",
            "\n",
            "The Content of the paragraph5 is :Note: Abstract should be 250-300 words which should indicate the outcomes of the selected project. \n",
            "\n",
            "The Content of the paragraph6 is : \n",
            "\n",
            "The Content of the paragraph7 is :GUIDE         AD MENTOR         AD COORDINATOR                            DEAN\n",
            "\n"
          ]
        }
      ]
    },
    {
      "cell_type": "code",
      "source": [
        "!pip install bs4"
      ],
      "metadata": {
        "colab": {
          "base_uri": "https://localhost:8080/"
        },
        "id": "wy6ATeZFb2Di",
        "outputId": "5315d2a3-11b4-47a5-989e-b1cd82c59457"
      },
      "execution_count": 31,
      "outputs": [
        {
          "output_type": "stream",
          "name": "stdout",
          "text": [
            "Collecting bs4\n",
            "  Downloading bs4-0.0.2-py2.py3-none-any.whl.metadata (411 bytes)\n",
            "Requirement already satisfied: beautifulsoup4 in /usr/local/lib/python3.11/dist-packages (from bs4) (4.13.3)\n",
            "Requirement already satisfied: soupsieve>1.2 in /usr/local/lib/python3.11/dist-packages (from beautifulsoup4->bs4) (2.6)\n",
            "Requirement already satisfied: typing-extensions>=4.0.0 in /usr/local/lib/python3.11/dist-packages (from beautifulsoup4->bs4) (4.12.2)\n",
            "Downloading bs4-0.0.2-py2.py3-none-any.whl (1.2 kB)\n",
            "Installing collected packages: bs4\n",
            "Successfully installed bs4-0.0.2\n"
          ]
        }
      ]
    },
    {
      "cell_type": "code",
      "source": [
        "import urllib.request as urllib2\n",
        "from bs4 import BeautifulSoup"
      ],
      "metadata": {
        "id": "SzIoeP2gdDvO"
      },
      "execution_count": 32,
      "outputs": []
    },
    {
      "cell_type": "code",
      "source": [
        "response=urllib2.urlopen('http://en.wikipedia.org/wiki/Natural_language_processing')\n",
        "html_doc=response.read()"
      ],
      "metadata": {
        "id": "hpfNrffNdMC-"
      },
      "execution_count": 34,
      "outputs": []
    },
    {
      "cell_type": "code",
      "source": [
        "soup=BeautifulSoup(html_doc, 'html.parser')\n",
        "strhtm=soup.prettify()\n",
        "print(strhtm[:5000])"
      ],
      "metadata": {
        "colab": {
          "base_uri": "https://localhost:8080/"
        },
        "id": "WsrqFKeVdcXg",
        "outputId": "0c3f735b-6297-44dd-b758-62a3f25f749f"
      },
      "execution_count": 36,
      "outputs": [
        {
          "output_type": "stream",
          "name": "stdout",
          "text": [
            "<!DOCTYPE html>\n",
            "<html class=\"client-nojs vector-feature-language-in-header-enabled vector-feature-language-in-main-page-header-disabled vector-feature-page-tools-pinned-disabled vector-feature-toc-pinned-clientpref-1 vector-feature-main-menu-pinned-disabled vector-feature-limited-width-clientpref-1 vector-feature-limited-width-content-enabled vector-feature-custom-font-size-clientpref-1 vector-feature-appearance-pinned-clientpref-1 vector-feature-night-mode-enabled skin-theme-clientpref-day vector-sticky-header-enabled vector-toc-available\" dir=\"ltr\" lang=\"en\">\n",
            " <head>\n",
            "  <meta charset=\"utf-8\"/>\n",
            "  <title>\n",
            "   Natural language processing - Wikipedia\n",
            "  </title>\n",
            "  <script>\n",
            "   (function(){var className=\"client-js vector-feature-language-in-header-enabled vector-feature-language-in-main-page-header-disabled vector-feature-page-tools-pinned-disabled vector-feature-toc-pinned-clientpref-1 vector-feature-main-menu-pinned-disabled vector-feature-limited-width-clientpref-1 vector-feature-limited-width-content-enabled vector-feature-custom-font-size-clientpref-1 vector-feature-appearance-pinned-clientpref-1 vector-feature-night-mode-enabled skin-theme-clientpref-day vector-sticky-header-enabled vector-toc-available\";var cookie=document.cookie.match(/(?:^|; )enwikimwclientpreferences=([^;]+)/);if(cookie){cookie[1].split('%2C').forEach(function(pref){className=className.replace(new RegExp('(^| )'+pref.replace(/-clientpref-\\w+$|[^\\w-]+/g,'')+'-clientpref-\\\\w+( |$)'),'$1'+pref+'$2');});}document.documentElement.className=className;}());RLCONF={\"wgBreakFrames\":false,\"wgSeparatorTransformTable\":[\"\",\"\"],\"wgDigitTransformTable\":[\"\",\"\"],\"wgDefaultDateFormat\":\"dmy\",\n",
            "\"wgMonthNames\":[\"\",\"January\",\"February\",\"March\",\"April\",\"May\",\"June\",\"July\",\"August\",\"September\",\"October\",\"November\",\"December\"],\"wgRequestId\":\"8110193a-7e31-45cd-b950-ec2910f9b347\",\"wgCanonicalNamespace\":\"\",\"wgCanonicalSpecialPageName\":false,\"wgNamespaceNumber\":0,\"wgPageName\":\"Natural_language_processing\",\"wgTitle\":\"Natural language processing\",\"wgCurRevisionId\":1274942014,\"wgRevisionId\":1274942014,\"wgArticleId\":21652,\"wgIsArticle\":true,\"wgIsRedirect\":false,\"wgAction\":\"view\",\"wgUserName\":null,\"wgUserGroups\":[\"*\"],\"wgCategories\":[\"All accuracy disputes\",\"Accuracy disputes from December 2013\",\"Harv and Sfn no-target errors\",\"CS1 errors: periodical ignored\",\"CS1 maint: location\",\"Articles with short description\",\"Short description is different from Wikidata\",\"Articles needing additional references from May 2024\",\"All articles needing additional references\",\"All articles with unsourced statements\",\"Articles with unsourced statements from May 2024\",\"Commons category link from Wikidata\",\n",
            "\"Natural language processing\",\"Computational fields of study\",\"Computational linguistics\",\"Speech recognition\"],\"wgPageViewLanguage\":\"en\",\"wgPageContentLanguage\":\"en\",\"wgPageContentModel\":\"wikitext\",\"wgRelevantPageName\":\"Natural_language_processing\",\"wgRelevantArticleId\":21652,\"wgIsProbablyEditable\":true,\"wgRelevantPageIsProbablyEditable\":true,\"wgRestrictionEdit\":[],\"wgRestrictionMove\":[],\"wgNoticeProject\":\"wikipedia\",\"wgCiteReferencePreviewsActive\":false,\"wgFlaggedRevsParams\":{\"tags\":{\"status\":{\"levels\":1}}},\"wgMediaViewerOnClick\":true,\"wgMediaViewerEnabledByDefault\":true,\"wgPopupsFlags\":0,\"wgVisualEditor\":{\"pageLanguageCode\":\"en\",\"pageLanguageDir\":\"ltr\",\"pageVariantFallbacks\":\"en\"},\"wgMFDisplayWikibaseDescriptions\":{\"search\":true,\"watchlist\":true,\"tagline\":false,\"nearby\":true},\"wgWMESchemaEditAttemptStepOversample\":false,\"wgWMEPageLength\":60000,\"wgEditSubmitButtonLabelPublish\":true,\"wgULSPosition\":\"interlanguage\",\"wgULSisCompactLinksEnabled\":false,\"wgVector2022LanguageInHeader\":true,\n",
            "\"wgULSisLanguageSelectorEmpty\":false,\"wgWikibaseItemId\":\"Q30642\",\"wgCheckUserClientHintsHeadersJsApi\":[\"brands\",\"architecture\",\"bitness\",\"fullVersionList\",\"mobile\",\"model\",\"platform\",\"platformVersion\"],\"GEHomepageSuggestedEditsEnableTopics\":true,\"wgGETopicsMatchModeEnabled\":false,\"wgGEStructuredTaskRejectionReasonTextInputEnabled\":false,\"wgGELevelingUpEnabledForUser\":false};RLSTATE={\"ext.globalCssJs.user.styles\":\"ready\",\"site.styles\":\"ready\",\"user.styles\":\"ready\",\"ext.globalCssJs.user\":\"ready\",\"user\":\"ready\",\"user.options\":\"loading\",\"ext.cite.styles\":\"ready\",\"ext.math.styles\":\"ready\",\"skins.vector.search.codex.styles\":\"ready\",\"skins.vector.styles\":\"ready\",\"skins.vector.icons\":\"ready\",\"jquery.makeCollapsible.styles\":\"ready\",\"ext.wikimediamessages.styles\":\"ready\",\"ext.visualEditor.desktopArticleTarget.noscript\":\"ready\",\"ext.uls.interlanguage\":\"ready\",\"wikibase.client.init\":\"ready\",\"ext.wikimediaBadges\":\"ready\"};RLPAGEMODULES=[\"ext.cite.ux-enhancements\",\"ext.scribunto.logs\",\"site\",\n",
            "\"mediawiki.page.ready\",\"jquery.makeCollapsible\",\"mediawiki.toc\",\"skins.vector.js\",\"ext.centralNotice.geoIP\",\"ext.centralNotice.startUp\",\"ext.gadget.ReferenceTooltips\",\"ext.gadget.switcher\",\"ext.urlShortener.toolbar\",\"ext.centralauth.centralautologin\",\"mmv.bootstrap\",\"ext.popups\",\"ext.visualEditor.desktopArticleTarget.init\",\"ext.visu\n"
          ]
        }
      ]
    },
    {
      "cell_type": "code",
      "source": [],
      "metadata": {
        "id": "xcSOght2dvAi"
      },
      "execution_count": null,
      "outputs": []
    }
  ]
}